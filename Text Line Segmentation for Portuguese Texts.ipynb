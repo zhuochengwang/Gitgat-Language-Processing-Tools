{
 "cells": [
  {
   "cell_type": "code",
   "execution_count": 20,
   "id": "0a1c0b77",
   "metadata": {},
   "outputs": [
    {
     "name": "stdout",
     "output_type": "stream",
     "text": [
      "Segmented and saved: Green Silk Road.txt\n"
     ]
    }
   ],
   "source": [
    "'''\n",
    "\n",
    "Please note that some segments still exceeds 70 characters. \n",
    "It is because some segments does not include breakpoints mentioned in the rule sets.\n",
    "\n",
    "'''\n",
    "import os\n",
    "\n",
    "def segment_file_preserving_lines(file_path, max_chars=70):\n",
    "    def segment_line_preserving(line):\n",
    "        # Only add a newline character to lines that are segmented\n",
    "        if len(line) <= max_chars:\n",
    "            return [line]  # Return the original line without adding a newline\n",
    "\n",
    "        primary_breakpoints = [',']\n",
    "        secondary_breakpoints = [' e ', ' mas ', ' porém ', ' contudo ', ' no entanto ']\n",
    "        \n",
    "        primary_segments = [s + ',' for s in line.split(',')[:-1]] + [line.split(',')[-1]]\n",
    "        final_segments = []\n",
    "\n",
    "        for segment in primary_segments:\n",
    "            trimmed_segment = segment.strip()\n",
    "            if len(trimmed_segment) <= max_chars:\n",
    "                final_segments.append(trimmed_segment + '\\n')\n",
    "            else:\n",
    "                for breakpoint in secondary_breakpoints:\n",
    "                    if breakpoint in trimmed_segment:\n",
    "                        sub_segments = trimmed_segment.split(breakpoint)\n",
    "                        if len(sub_segments[0]) + len(breakpoint) <= max_chars:\n",
    "                            final_segments.append(sub_segments[0].strip() + breakpoint.strip() + '\\n')\n",
    "                            final_segments.append(breakpoint.join(sub_segments[1:]).strip() + '\\n')\n",
    "                            break\n",
    "                else:\n",
    "                    words = trimmed_segment.split()\n",
    "                    current_segment = \"\"\n",
    "                    for word in words:\n",
    "                        if len(current_segment) + len(word) + 1 > max_chars:\n",
    "                            final_segments.append(current_segment.strip() + '\\n')\n",
    "                            current_segment = word\n",
    "                        else:\n",
    "                            current_segment += \" \" + word\n",
    "                    if current_segment:\n",
    "                        final_segments.append(current_segment.strip() + '\\n')\n",
    "\n",
    "        return final_segments\n",
    "\n",
    "    with open(file_path, 'r', encoding='utf-8') as file:\n",
    "        lines = file.readlines()\n",
    "\n",
    "    segmented_text = []\n",
    "    for line in lines:\n",
    "        segmented_lines = segment_line_preserving(line)\n",
    "        segmented_text.extend(segmented_lines)\n",
    "\n",
    "    return segmented_text\n",
    "\n",
    "def segment_all_txt_files_in_folder(input_folder_path, output_folder_path, max_chars=70):\n",
    "    for filename in os.listdir(input_folder_path):\n",
    "        if filename.endswith('.txt'):\n",
    "            input_file_path = os.path.join(input_folder_path, filename)\n",
    "            output_file_path = os.path.join(output_folder_path, f\"segmented_{filename}\")\n",
    "\n",
    "            segmented_content = segment_file_preserving_lines(input_file_path, max_chars)\n",
    "            with open(output_file_path, 'w', encoding='utf-8') as file:\n",
    "                file.writelines(segmented_content)\n",
    "\n",
    "            print(f\"Segmented and saved: {filename}\")\n",
    "\n",
    "# Usage\n",
    "input_folder_path = 'D:/OneDrive/Job/TDM/20230811_Tianxia/0101'  # Replace with your input folder path\n",
    "output_folder_path = 'D:/OneDrive/Job/TDM/20230811_Tianxia/0202'  # Replace with your output folder path\n",
    "max_chars = 70\n",
    "segment_all_txt_files_in_folder(input_folder_path, output_folder_path, max_chars)\n"
   ]
  }
 ],
 "metadata": {
  "kernelspec": {
   "display_name": "example",
   "language": "python",
   "name": "example"
  },
  "language_info": {
   "codemirror_mode": {
    "name": "ipython",
    "version": 3
   },
   "file_extension": ".py",
   "mimetype": "text/x-python",
   "name": "python",
   "nbconvert_exporter": "python",
   "pygments_lexer": "ipython3",
   "version": "3.11.5"
  }
 },
 "nbformat": 4,
 "nbformat_minor": 5
}
